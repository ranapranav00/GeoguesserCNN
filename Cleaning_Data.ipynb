{
 "cells": [
  {
   "cell_type": "code",
   "execution_count": null,
   "id": "96bad0cb-7f9d-455b-93e7-7f2bde88b57f",
   "metadata": {},
   "outputs": [],
   "source": [
    "import tensorflow as tf\n",
    "import os\n",
    "import imghdr"
   ]
  },
  {
   "cell_type": "code",
   "execution_count": null,
   "id": "9ec57a97-8f94-44fd-a1fc-b70e7c401b74",
   "metadata": {},
   "outputs": [],
   "source": [
    "data_dir = 'images'\n",
    "cutouts_dir = os.path.join(data_dir, 'cutouts')\n",
    "panos_dir = os.path.join(data_dir, 'panos')"
   ]
  },
  {
   "cell_type": "code",
   "execution_count": null,
   "id": "a495d58f-5066-476f-b2a9-fdcf5fa9859f",
   "metadata": {},
   "outputs": [],
   "source": [
    "# Debugging for invalid JPEG data or crop window error in model.fit\n",
    "for x in os.listdir('data'):\n",
    "    print(f\"entering {x} folder\")\n",
    "    for imgs in os.listdir(os.path.join('data', x)):\n",
    "        image_path = os.path.join(os.path.join('data',x), imgs)\n",
    "        try:\n",
    "            # Read the image file\n",
    "            image_raw = tf.io.read_file(image_path)\n",
    "            # Decode the JPEG image\n",
    "            image = tf.image.decode_jpeg(image_raw, channels=3)\n",
    "            # Normalize the pixel values to the range [0, 1]\n",
    "            image = tf.image.convert_image_dtype(image, tf.float32)\n",
    "        except tf.errors.InvalidArgumentError:\n",
    "            print(f\"Error loading image {image_path}: Invalid JPEG data or crop window.\")"
   ]
  },
  {
   "cell_type": "code",
   "execution_count": null,
   "id": "cc981516-990c-4d71-960f-b719b79c5e0b",
   "metadata": {},
   "outputs": [],
   "source": [
    "# In Cutouts --> For each (lat,long), prints all lat/long sets\n",
    "for x in os.listdir(cutouts_dir):\n",
    "    latitudes = os.path.join(cutouts_dir, x)\n",
    "    for y in os.listdir(latitudes):\n",
    "        coords = os.path.join(latitudes, y)\n",
    "        print(coords)"
   ]
  },
  {
   "cell_type": "code",
   "execution_count": null,
   "id": "331297ec-891f-4d48-81ff-13fbf54bb5ed",
   "metadata": {},
   "outputs": [],
   "source": [
    "# In Panos --> For each (lat,long), prints all lat/long sets\n",
    "for x in os.listdir(panos_dir):\n",
    "    latitudes = os.path.join(panos_dir, x)\n",
    "    for y in os.listdir(latitudes):\n",
    "        coords = os.path.join(latitudes, y)\n",
    "        print(coords)"
   ]
  },
  {
   "cell_type": "code",
   "execution_count": null,
   "id": "29aec82f-397b-4183-8b6d-832413c212b2",
   "metadata": {},
   "outputs": [],
   "source": [
    "# In Cutouts --> For each (lat,long), removes images less than 20kb\n",
    "for x in os.listdir(cutouts_dir):\n",
    "    latitudes = os.path.join(cutouts_dir, x)\n",
    "    for y in os.listdir(latitudes):\n",
    "        coords = os.path.join(latitudes, y)\n",
    "        for file in os.listdir(coords):\n",
    "            img = os.path.join(coords, file)\n",
    "            if(os.path.getsize(img) < 20000):\n",
    "                print(f\"removing: {img}\")\n",
    "                os.remove(img)\n",
    "print(\"completed\")"
   ]
  },
  {
   "cell_type": "code",
   "execution_count": null,
   "id": "3f2c8afe-1f67-4843-8ec2-cfd45a7159b2",
   "metadata": {},
   "outputs": [],
   "source": [
    "# In Panos --> For each (lat,long), removes images less than 150kb\n",
    "for x in os.listdir(panos_dir):\n",
    "    latitudes = os.path.join(panos_dir, x)\n",
    "    for y in os.listdir(latitudes):\n",
    "        coords = os.path.join(latitudes, y)\n",
    "        for file in os.listdir(coords):\n",
    "            img = os.path.join(coords, file)\n",
    "            if(os.path.getsize(img) < 150000):\n",
    "                print(f\"removing: {img} {os.path.getsize(img)}\")\n",
    "                os.remove(img)\n",
    "print(\"completed\")"
   ]
  },
  {
   "cell_type": "code",
   "execution_count": null,
   "id": "4fc38142-3c0a-4615-9527-df4259844b6f",
   "metadata": {},
   "outputs": [],
   "source": [
    "# In data --> Removes any images that are not of .jpg format\n",
    "for x in os.listdir('data'):\n",
    "    folder = os.path.join('data', x)\n",
    "    for image in os.listdir(folder):\n",
    "        img = os.path.join(folder, image)\n",
    "        if not img.endswith('.jpg'):\n",
    "            print(\"1\")\n",
    "print(\"completed\")"
   ]
  },
  {
   "cell_type": "code",
   "execution_count": null,
   "id": "f33e7eee-23a8-4511-a3c7-e429e1df8caf",
   "metadata": {},
   "outputs": [],
   "source": []
  }
 ],
 "metadata": {
  "kernelspec": {
   "display_name": "geolocator",
   "language": "python",
   "name": "geolocator"
  },
  "language_info": {
   "codemirror_mode": {
    "name": "ipython",
    "version": 3
   },
   "file_extension": ".py",
   "mimetype": "text/x-python",
   "name": "python",
   "nbconvert_exporter": "python",
   "pygments_lexer": "ipython3",
   "version": "3.9.0"
  }
 },
 "nbformat": 4,
 "nbformat_minor": 5
}
