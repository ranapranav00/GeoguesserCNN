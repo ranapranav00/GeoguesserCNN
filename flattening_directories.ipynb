{
 "cells": [
  {
   "cell_type": "code",
   "execution_count": null,
   "id": "6c2015d0-8b10-49bc-8adc-6a6ae5943afe",
   "metadata": {},
   "outputs": [],
   "source": [
    "import os\n",
    "import shutil\n",
    "import tensorflow as tf"
   ]
  },
  {
   "cell_type": "code",
   "execution_count": null,
   "id": "330b4e12-9f27-4f6a-838c-0223eb9b9d65",
   "metadata": {},
   "outputs": [],
   "source": [
    "# Using GPU\n",
    "gpus = tf.config.experimental.list_physical_devices('GPU')\n",
    "for gpu in gpus:\n",
    "    tf.config.experimental.set_memory_growth(gpu, True)"
   ]
  },
  {
   "cell_type": "code",
   "execution_count": null,
   "id": "2eee2064-f07b-4753-9155-9c90f1f156a6",
   "metadata": {},
   "outputs": [],
   "source": [
    "# Defining source and destination folders\n",
    "source = 'images'\n",
    "dest = 'data'"
   ]
  },
  {
   "cell_type": "code",
   "execution_count": null,
   "id": "40005a3b-7d2c-47ca-891a-b08bc205fc5a",
   "metadata": {},
   "outputs": [],
   "source": [
    "# Creates the destination folder if it doesn't exist\n",
    "if not os.path.exists(dest):\n",
    "    os.makedirs(dest)"
   ]
  },
  {
   "cell_type": "code",
   "execution_count": null,
   "id": "b6ab724c-a296-4f1e-8a13-600177b0eecf",
   "metadata": {},
   "outputs": [],
   "source": [
    "# For image type in the images folder (cutouts/panos), for longitudes in the latitude subfolders, for images in the longitude subfolders\n",
    "# Concats the folder names and creates a new folder in the destination\n",
    "# utilizes shutil to move the file to the destination path\n",
    "for imgtype in os.listdir(source):\n",
    "    imgtype_dir = os.path.join(source, imgtype)\n",
    "    for lat in os.listdir(os.path.join(imgtype_dir)):\n",
    "        lat_dir = os.path.join(imgtype_dir, lat)\n",
    "        for long in os.listdir(lat_dir):\n",
    "            long_dir = os.path.join(lat_dir, long)\n",
    "            new_loc = os.path.join(dest, f\"{lat}_{long}\")\n",
    "            #print(lat, long)\n",
    "            if not os.path.exists(new_loc):\n",
    "                os.makedirs(new_loc)\n",
    "            for img in os.listdir(long_dir):\n",
    "                img_path = os.path.join(long_dir, img)\n",
    "                shutil.move(img_path, new_loc)\n",
    "print(\"completed\")"
   ]
  },
  {
   "cell_type": "code",
   "execution_count": null,
   "id": "14e63f87-f153-4281-a04f-1950024e05f1",
   "metadata": {},
   "outputs": [],
   "source": []
  }
 ],
 "metadata": {
  "kernelspec": {
   "display_name": "geolocator",
   "language": "python",
   "name": "geolocator"
  },
  "language_info": {
   "codemirror_mode": {
    "name": "ipython",
    "version": 3
   },
   "file_extension": ".py",
   "mimetype": "text/x-python",
   "name": "python",
   "nbconvert_exporter": "python",
   "pygments_lexer": "ipython3",
   "version": "3.9.0"
  }
 },
 "nbformat": 4,
 "nbformat_minor": 5
}
