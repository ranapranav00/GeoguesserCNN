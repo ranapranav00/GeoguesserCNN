{
 "cells": [
  {
   "cell_type": "code",
   "execution_count": null,
   "id": "5ef9f7bf-a2c1-4367-bdaf-85e726e8d70b",
   "metadata": {},
   "outputs": [],
   "source": [
    "import tensorflow as tf\n",
    "import numpy as np\n",
    "import matplotlib.pyplot as plt\n",
    "import cartopy.crs as ccrs\n",
    "import cartopy.feature as cfeature\n",
    "import os\n",
    "from tensorflow.keras.preprocessing import image"
   ]
  },
  {
   "cell_type": "code",
   "execution_count": null,
   "id": "240d1a7f-98ac-4527-af6e-2a9f301f1323",
   "metadata": {},
   "outputs": [],
   "source": [
    "model = tf.keras.models.load_model(os.path.join('models', 'geoCNNmodel.h5'))"
   ]
  },
  {
   "cell_type": "code",
   "execution_count": null,
   "id": "a2c30c21-6b03-449a-953f-cc61ff48ba3e",
   "metadata": {},
   "outputs": [],
   "source": [
    "def load_and_preprocess_image(img_path):\n",
    "    img = image.load_img(img_path, target_size=(256, 256))\n",
    "    img_array = image.img_to_array(img)\n",
    "    img_array = np.expand_dims(img_array, axis=0)\n",
    "    img_array /= 255.0  # Normalize to [0, 1]\n",
    "    return img_array"
   ]
  },
  {
   "cell_type": "code",
   "execution_count": null,
   "id": "40c83aa3-5312-4d4d-91f5-4db7a2b7af1b",
   "metadata": {},
   "outputs": [],
   "source": [
    "def extract_coordinates_from_filename(filename):\n",
    "    base_name = os.path.basename(filename).replace('.jpg', '')\n",
    "    parts = base_name.split('_')\n",
    "    lat = float(parts[0])  \n",
    "    lon = float(parts[1])\n",
    "    return lat, lon"
   ]
  },
  {
   "cell_type": "code",
   "execution_count": null,
   "id": "f5e77ab9-8865-44e9-882a-219486ce80e8",
   "metadata": {},
   "outputs": [],
   "source": [
    "def display_coords(real, prediction):\n",
    "    fig = plt.figure(figsize=(10, 8))\n",
    "    ax = fig.add_subplot(1, 1, 1, projection=ccrs.LambertConformal())\n",
    "\n",
    "    ax.set_extent([-150, -65, 23, 65], ccrs.Geodetic())\n",
    "\n",
    "    ax.coastlines()\n",
    "    ax.add_feature(cfeature.STATES)\n",
    "\n",
    "    # Plot real coordinates\n",
    "    print(\"Real\", real[1], real[0])\n",
    "    ax.scatter(real[1], real[0], color='blue', label='Real', transform=ccrs.PlateCarree())\n",
    "\n",
    "    # Plot predicted coordinates\n",
    "    print(\"Pred\", prediction[1], prediction[0])\n",
    "    ax.scatter(prediction[1], prediction[0], color='red', label='Predicted', transform=ccrs.PlateCarree())\n",
    "\n",
    "    ax.legend()\n",
    "    ax.set_title('Real vs Predicted Coordinates')\n",
    "\n",
    "    plt.show()"
   ]
  },
  {
   "cell_type": "code",
   "execution_count": null,
   "id": "eb49f3ae-205d-48b2-bc32-3a0b9ba52224",
   "metadata": {},
   "outputs": [],
   "source": [
    "test_images_dir = os.path.join('data', '64_-149')\n",
    "test_images = [os.path.join(test_images_dir, fname) for fname in os.listdir(test_images_dir)]\n",
    "\n",
    "real_coords = []\n",
    "predicted_coords = []\n",
    "\n",
    "for img_path in test_images:\n",
    "    real_lat, real_lon = extract_coordinates_from_filename(img_path)\n",
    "    img_array = load_and_preprocess_image(img_path)\n",
    "    prediction = model.predict(img_array)[0]\n",
    "    predicted_coords.append(prediction)\n",
    "    real_coords.append((real_lat, real_lon))\n",
    "\n",
    "real_coords = np.array(real_coords, dtype=np.float32)\n",
    "predicted_coords = np.array(predicted_coords, dtype=np.float32)"
   ]
  },
  {
   "cell_type": "code",
   "execution_count": null,
   "id": "5cc6ad62-6065-4425-8b5b-75615c12cde5",
   "metadata": {},
   "outputs": [],
   "source": [
    "real_coords"
   ]
  },
  {
   "cell_type": "code",
   "execution_count": null,
   "id": "fea95e66-f1f8-41c8-ba30-e6ebaa3353f8",
   "metadata": {},
   "outputs": [],
   "source": [
    "predicted_coords"
   ]
  },
  {
   "cell_type": "code",
   "execution_count": null,
   "id": "dc356171-3fa5-41cb-acb0-ed563a1fa91c",
   "metadata": {},
   "outputs": [],
   "source": [
    "predicted_coords[1]"
   ]
  },
  {
   "cell_type": "code",
   "execution_count": null,
   "id": "437ab989-1b85-4493-b279-e57104bc7ef0",
   "metadata": {},
   "outputs": [],
   "source": [
    "for i in range(len(predicted_coords)):\n",
    "    display_coords(real_coords[i], predicted_coords[i])\n",
    "    input(\"press anything to continue...\")"
   ]
  },
  {
   "cell_type": "code",
   "execution_count": null,
   "id": "d5d2ab95-0f1e-4f08-80e5-774b147bb67f",
   "metadata": {},
   "outputs": [],
   "source": []
  }
 ],
 "metadata": {
  "kernelspec": {
   "display_name": "geolocator",
   "language": "python",
   "name": "geolocator"
  },
  "language_info": {
   "codemirror_mode": {
    "name": "ipython",
    "version": 3
   },
   "file_extension": ".py",
   "mimetype": "text/x-python",
   "name": "python",
   "nbconvert_exporter": "python",
   "pygments_lexer": "ipython3",
   "version": "3.9.0"
  }
 },
 "nbformat": 4,
 "nbformat_minor": 5
}
