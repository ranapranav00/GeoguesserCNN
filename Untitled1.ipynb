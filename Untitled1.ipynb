{
 "cells": [
  {
   "cell_type": "code",
   "execution_count": 2,
   "id": "0901ca15-4c61-42dd-bec6-91864d9ae4c4",
   "metadata": {},
   "outputs": [],
   "source": [
    "# from struct import unpack\n",
    "# import os\n",
    "# # \n"
   ]
  },
  {
   "cell_type": "code",
   "execution_count": null,
   "id": "c56f693c-df37-4850-8a5c-5e6313518dd0",
   "metadata": {},
   "outputs": [],
   "source": [
    "\n",
    "# marker_mapping = {\n",
    "#     0xffd8: \"Start of Image\",\n",
    "#     0xffe0: \"Application Default Header\",\n",
    "#     0xffdb: \"Quantization Table\",\n",
    "#     0xffc0: \"Start of Frame\",\n",
    "#     0xffc4: \"Define Huffman Table\",\n",
    "#     0xffda: \"Start of Scan\",\n",
    "#     0xffd9: \"End of Image\"\n",
    "# }\n",
    "\n",
    "\n",
    "# class JPEG:\n",
    "#     def __init__(self, image_file):\n",
    "#         with open(image_file, 'rb') as f:\n",
    "#             self.img_data = f.read()\n",
    "    \n",
    "#     def decode(self):\n",
    "#         data = self.img_data\n",
    "#         while(True):\n",
    "#             marker, = unpack(\">H\", data[0:2])\n",
    "#             # print(marker_mapping.get(marker))\n",
    "#             if marker == 0xffd8:\n",
    "#                 data = data[2:]\n",
    "#             elif marker == 0xffd9:\n",
    "#                 return\n",
    "#             elif marker == 0xffda:\n",
    "#                 data = data[-2:]\n",
    "#             else:\n",
    "#                 lenchunk, = unpack(\">H\", data[2:4])\n",
    "#                 data = data[2+lenchunk:]            \n",
    "#             if len(data)==0:\n",
    "#                 break        \n",
    "\n",
    "\n",
    "# bads = []\n",
    "\n",
    "# for folder in os.listdir('data'):\n",
    "#     for img in os.listdir(os.path.join('data', folder)):\n",
    "        \n",
    "#           image = os.path.join('data', folder , img)\n",
    "#           image = JPEG(image) \n",
    "#           try:\n",
    "#             image.decode()   \n",
    "#           except:\n",
    "#             bads.append(img)\n",
    "#     for name in bads:\n",
    "#         print(osp.join(root_img, name))\n",
    "#         #os.remove(osp.join(root_img,name))\n",
    "\n",
    "# print('comp')"
   ]
  },
  {
   "cell_type": "code",
   "execution_count": null,
   "id": "69277d50-c861-46c6-aef6-79d246e2db2f",
   "metadata": {},
   "outputs": [],
   "source": []
  }
 ],
 "metadata": {
  "kernelspec": {
   "display_name": "geolocator",
   "language": "python",
   "name": "geolocator"
  },
  "language_info": {
   "codemirror_mode": {
    "name": "ipython",
    "version": 3
   },
   "file_extension": ".py",
   "mimetype": "text/x-python",
   "name": "python",
   "nbconvert_exporter": "python",
   "pygments_lexer": "ipython3",
   "version": "3.9.0"
  }
 },
 "nbformat": 4,
 "nbformat_minor": 5
}
