{
 "cells": [
  {
   "cell_type": "markdown",
   "id": "e2c23855-4b32-48c7-86ba-d0abb9d8d4cf",
   "metadata": {},
   "source": [
    "# Setup"
   ]
  },
  {
   "cell_type": "code",
   "execution_count": null,
   "id": "8caee509-e1ad-4e22-bab0-3c6b7488412e",
   "metadata": {},
   "outputs": [],
   "source": [
    "import tensorflow as tf\n",
    "import os"
   ]
  },
  {
   "cell_type": "code",
   "execution_count": null,
   "id": "e69fdf83-737b-4208-8ea3-a1e8d7b56da1",
   "metadata": {},
   "outputs": [],
   "source": [
    "# Used to avoid Out of Memory Errors\n",
    "gpus = tf.config.experimental.list_physical_devices('GPU')\n",
    "for gpu in gpus:\n",
    "    tf.config.experimental.set_memory_growth(gpu, True)"
   ]
  },
  {
   "cell_type": "code",
   "execution_count": null,
   "id": "5a0c1c39-656d-456a-a8e8-b9e6a3598c06",
   "metadata": {},
   "outputs": [],
   "source": [
    "import cv2\n",
    "import imghdr\n",
    "import numpy as np\n",
    "from matplotlib import pyplot as plt\n",
    "import pandas as pd"
   ]
  },
  {
   "cell_type": "code",
   "execution_count": null,
   "id": "f0360e2f-1508-4593-bd27-11fc7afe4629",
   "metadata": {},
   "outputs": [],
   "source": [
    "data_dir = 'data'"
   ]
  },
  {
   "cell_type": "code",
   "execution_count": null,
   "id": "6d57c1d9-7595-448c-8640-7989bfa08518",
   "metadata": {},
   "outputs": [],
   "source": [
    "image = cv2.imread(os.path.join(data_dir, '25_-80', '25.00283_-80.532153.jpg'))\n",
    "image.shape"
   ]
  },
  {
   "cell_type": "code",
   "execution_count": null,
   "id": "a1e0f18f-ea57-42ff-b6dd-181bf3db5c6f",
   "metadata": {},
   "outputs": [],
   "source": [
    "image = cv2.imread(os.path.join(data_dir, '27_-80', '27.002005_-80.622323_270.jpg'))\n",
    "image.shape"
   ]
  },
  {
   "cell_type": "markdown",
   "id": "0aa64e9e-ac48-4224-aaaa-cb207cff04c4",
   "metadata": {},
   "source": [
    "\n",
    "# Loading & Preprocessing Data\n"
   ]
  },
  {
   "cell_type": "code",
   "execution_count": null,
   "id": "397fb33b-b02e-4a40-9a99-acefdd9120af",
   "metadata": {},
   "outputs": [],
   "source": [
    "data = tf.keras.utils.image_dataset_from_directory('data')"
   ]
  },
  {
   "cell_type": "code",
   "execution_count": null,
   "id": "263f15c9-6795-462d-86ce-69db5c717ac6",
   "metadata": {},
   "outputs": [],
   "source": [
    "def convert_label(label):\n",
    "    labels = label.numpy()\n",
    "    coords = []\n",
    "    for label in labels:\n",
    "        folder = os.listdir(data_dir)[label]\n",
    "        lat, lon = map(float, folder.split('_'))\n",
    "        coords.append([lat,lon])\n",
    "    return np.array(coords, dtype=np.float32)"
   ]
  },
  {
   "cell_type": "code",
   "execution_count": null,
   "id": "23eb25d6-acb6-441d-a4d6-11f5d917321f",
   "metadata": {},
   "outputs": [],
   "source": [
    "# For every pair of images & labels in our data, divide all image info by 255, do nothing to labels\n",
    "data = data.map(lambda x, y: (x/255, y))"
   ]
  },
  {
   "cell_type": "code",
   "execution_count": null,
   "id": "a9f67350-b73f-4627-8067-b00915b7d2bb",
   "metadata": {},
   "outputs": [],
   "source": [
    "data = data.map(lambda x, y: (x, tf.py_function(func=convert_label, inp=[y], Tout=tf.float32)))"
   ]
  },
  {
   "cell_type": "code",
   "execution_count": null,
   "id": "ce3215eb-1060-4234-9a99-9043b12ce331",
   "metadata": {},
   "outputs": [],
   "source": [
    "scaled_iterator = data.as_numpy_iterator()"
   ]
  },
  {
   "cell_type": "code",
   "execution_count": null,
   "id": "f6f8e8c5-2576-44a2-9ed5-5073a5a367ea",
   "metadata": {},
   "outputs": [],
   "source": [
    "batch = scaled_iterator.next()"
   ]
  },
  {
   "cell_type": "code",
   "execution_count": null,
   "id": "9acbf323-d41c-43c7-a450-fc533b5068dd",
   "metadata": {},
   "outputs": [],
   "source": [
    "#### 2 parts to dataset -- Images & Labels\n",
    "# Images --> 32 images, of size 256 by 256, with 3 layers (RGB) | batch[0].shape = (32, 256, 256, 3)\n",
    "# Labels --> 32 labels (152nd classification, 354th classification etc. Basically their coordinates) | batch[1] (142, 234, ... 183)\n",
    "# .min() retrieves lowest value of pixel, .max() retrieves highest value of pixel\n",
    "batch[0].min(), batch[0].max()\n",
    "batch[1][0]\n",
    "batch[1]"
   ]
  },
  {
   "cell_type": "code",
   "execution_count": null,
   "id": "f760fa99-d6a2-4316-81bf-e314af4d06ce",
   "metadata": {},
   "outputs": [],
   "source": [
    "fig, ax = plt.subplots(ncols=4, figsize=(20,20))\n",
    "for idx, img in enumerate(batch[0][:4]):\n",
    "    ax[idx].imshow(img)\n",
    "    classification = batch[1][idx]\n",
    "    #coord_class = os.listdir(data_dir)[classification]\n",
    "    #ax[idx].title.set_text(f\"{coord_class} | {classification}\")\n",
    "    ax[idx].title.set_text(f\"{classification[0]}, {classification[1]}\")"
   ]
  },
  {
   "cell_type": "markdown",
   "id": "3ae44172-2e51-4ab3-8cfe-2fa1bcd00417",
   "metadata": {},
   "source": [
    "## Splitting Data"
   ]
  },
  {
   "cell_type": "code",
   "execution_count": null,
   "id": "4743842f-ed3e-485a-bd65-2179a6ff687d",
   "metadata": {},
   "outputs": [],
   "source": [
    "train_size = int(len(data) * .7)\n",
    "validation_size = int(len(data) * .15)\n",
    "test_size = int(len(data) * .15)\n",
    "train_size, validation_size, test_size"
   ]
  },
  {
   "cell_type": "code",
   "execution_count": null,
   "id": "0fe14ad7-af26-44bd-a7ee-1dc3a756fa55",
   "metadata": {},
   "outputs": [],
   "source": [
    "train_ds = data.take(train_size)\n",
    "val_ds = data.skip(train_size).take(validation_size)\n",
    "test_ds = data.skip(train_size + validation_size)"
   ]
  },
  {
   "cell_type": "markdown",
   "id": "6b7f0c99-4b4a-4813-88f5-6de83103b438",
   "metadata": {},
   "source": [
    "# Building the Model"
   ]
  },
  {
   "cell_type": "code",
   "execution_count": null,
   "id": "b6ce8e95-5b2c-4095-a848-f6cf1efdfa3a",
   "metadata": {},
   "outputs": [],
   "source": [
    "from tensorflow.keras.models import Sequential\n",
    "from tensorflow.keras.layers import Conv2D, MaxPooling2D, Dense, Flatten\n",
    "from tensorflow.keras.preprocessing import image"
   ]
  },
  {
   "cell_type": "code",
   "execution_count": null,
   "id": "545f06f7-440a-4697-98b6-ed25424c05b8",
   "metadata": {},
   "outputs": [],
   "source": [
    "model = Sequential()"
   ]
  },
  {
   "cell_type": "code",
   "execution_count": null,
   "id": "7a2541d2-e9e8-49ad-870a-2b33203d7b64",
   "metadata": {},
   "outputs": [],
   "source": [
    "model.add(Conv2D(32, (3,3), 1, activation='relu', input_shape = (256,256,3)))\n",
    "model.add(MaxPooling2D())\n",
    "\n",
    "model.add(Conv2D(64, (3,3), 1, activation='relu'))\n",
    "model.add(MaxPooling2D())\n",
    "\n",
    "model.add(Conv2D(128, (3,3), 1, activation='relu'))\n",
    "model.add(MaxPooling2D())\n",
    "\n",
    "model.add(Flatten())\n",
    "\n",
    "model.add(Dense(256, activation='relu'))\n",
    "model.add(Dense(128, activation='relu'))\n",
    "model.add(Dense(2, activation='linear'))"
   ]
  },
  {
   "cell_type": "code",
   "execution_count": null,
   "id": "897fece3-a405-40ee-b6a3-03b8046cf931",
   "metadata": {},
   "outputs": [],
   "source": [
    "model.compile('adam', loss= 'mse', metrics = ['mae'])"
   ]
  },
  {
   "cell_type": "code",
   "execution_count": null,
   "id": "5f63b8bf-9315-48c1-94c0-5498faeaec55",
   "metadata": {},
   "outputs": [],
   "source": [
    "model.summary()"
   ]
  },
  {
   "cell_type": "code",
   "execution_count": null,
   "id": "32803fbf-9171-44af-8a0a-c1572663b2f6",
   "metadata": {},
   "outputs": [],
   "source": [
    "logdir = 'logs'"
   ]
  },
  {
   "cell_type": "code",
   "execution_count": null,
   "id": "47fa5f3f-49cd-46b8-aca2-379c52a95790",
   "metadata": {},
   "outputs": [],
   "source": [
    "tensorboard_callback = tf.keras.callbacks.TensorBoard(log_dir=logdir)"
   ]
  },
  {
   "cell_type": "code",
   "execution_count": null,
   "id": "3f52aac5-a089-48f3-82e7-d409335ba6a7",
   "metadata": {},
   "outputs": [],
   "source": [
    "print('hi')"
   ]
  },
  {
   "cell_type": "code",
   "execution_count": null,
   "id": "1ea037c2-6292-481d-b91c-2c61acdc2fab",
   "metadata": {},
   "outputs": [],
   "source": [
    "history = model.fit(train_ds, epochs=20, validation_data = val_ds, callbacks = [tensorboard_callback])"
   ]
  },
  {
   "cell_type": "code",
   "execution_count": null,
   "id": "e5e409cc-ae59-416a-b261-ba715ecb1dd0",
   "metadata": {},
   "outputs": [],
   "source": [
    "history.history"
   ]
  },
  {
   "cell_type": "code",
   "execution_count": null,
   "id": "25759319-b744-4c06-88e0-386c1c89c0ad",
   "metadata": {},
   "outputs": [],
   "source": [
    "from tensorflow.keras.models import load_model"
   ]
  },
  {
   "cell_type": "code",
   "execution_count": null,
   "id": "ea2e0510-e5d5-415b-a24f-b3914a16c684",
   "metadata": {},
   "outputs": [],
   "source": [
    "model.save(os.path.join('models', 'geoCNNmodel.h5'))"
   ]
  },
  {
   "cell_type": "code",
   "execution_count": null,
   "id": "bb421393-4595-46e9-b350-d105e1e03e55",
   "metadata": {},
   "outputs": [],
   "source": [
    "new_model = load_model(os.path.join('models', 'geoCNNmodel.h5'))"
   ]
  },
  {
   "cell_type": "code",
   "execution_count": null,
   "id": "0f953846-8c8f-4239-b3dc-8eaf5043818c",
   "metadata": {},
   "outputs": [],
   "source": [
    "new_model"
   ]
  },
  {
   "cell_type": "code",
   "execution_count": null,
   "id": "5d0c3f13-d264-4bcd-bdc8-06158ff9f75b",
   "metadata": {},
   "outputs": [],
   "source": [
    "fig = plt.figure()\n",
    "plt.plot(new_model.history['loss'], color = 'aqua', label = 'loss')\n",
    "plt.plot(new_model.history['val_loss'], color = 'orange', label = 'val_loss')\n",
    "fig.suptitle('Loss')\n",
    "plt.legend(loc='upper left')\n",
    "plt.show"
   ]
  },
  {
   "cell_type": "code",
   "execution_count": null,
   "id": "616bee03-598a-4373-9480-38f19b6d4c1f",
   "metadata": {},
   "outputs": [],
   "source": []
  }
 ],
 "metadata": {
  "kernelspec": {
   "display_name": "geolocator",
   "language": "python",
   "name": "geolocator"
  },
  "language_info": {
   "codemirror_mode": {
    "name": "ipython",
    "version": 3
   },
   "file_extension": ".py",
   "mimetype": "text/x-python",
   "name": "python",
   "nbconvert_exporter": "python",
   "pygments_lexer": "ipython3",
   "version": "3.9.0"
  }
 },
 "nbformat": 4,
 "nbformat_minor": 5
}
