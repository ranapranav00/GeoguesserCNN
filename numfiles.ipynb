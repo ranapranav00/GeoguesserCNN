{
 "cells": [
  {
   "cell_type": "code",
   "execution_count": null,
   "id": "2b081745-190d-4b52-8c3c-504d75d3f2a4",
   "metadata": {},
   "outputs": [],
   "source": [
    "import os\n",
    "import shutil\n",
    "import tensorflow as tf\n",
    "import imghdr\n",
    "import random"
   ]
  },
  {
   "cell_type": "code",
   "execution_count": null,
   "id": "f140b886-31e3-4597-89d2-2590c3f24e53",
   "metadata": {},
   "outputs": [],
   "source": [
    "data_dir = 'data'\n",
    "new_dir = 'new_data'"
   ]
  },
  {
   "cell_type": "code",
   "execution_count": null,
   "id": "793c5698-d106-43ea-9c8f-5adf8c9052a9",
   "metadata": {},
   "outputs": [],
   "source": [
    "os.makedirs(new_dir, exist_ok=True)"
   ]
  },
  {
   "cell_type": "code",
   "execution_count": null,
   "id": "778035f2-a2e4-4689-a8b1-84bcbc4a5a58",
   "metadata": {},
   "outputs": [],
   "source": [
    "for folder in os.listdir(data_dir):\n",
    "    print(len(os.listdir(os.path.join(data_dir, folder))))"
   ]
  },
  {
   "cell_type": "code",
   "execution_count": null,
   "id": "c77f536a-6e4a-4eae-ac3d-3cd2a80c69cb",
   "metadata": {},
   "outputs": [],
   "source": [
    "for folder in os.listdir(data_dir):\n",
    "    folder_dir = os.path.join(data_dir, folder)\n",
    "    images = os.listdir(folder_dir)\n",
    "    if (len(images) >= 2000):\n",
    "        selected_images = random.sample(images, 2000)\n",
    "    else:\n",
    "        selected_images = images\n",
    "\n",
    "    new_folder_dir = os.path.join(new_dir, folder)\n",
    "    os.makedirs(new_folder_dir, exist_ok = True)\n",
    "    \n",
    "    for image in selected_images:\n",
    "        src = os.path.join(folder_dir, image)\n",
    "        dest = os.path.join(new_folder_dir, image)\n",
    "        shutil.move(src, dest)"
   ]
  },
  {
   "cell_type": "code",
   "execution_count": null,
   "id": "a3d90b1f-f1e8-4e7d-a187-656387228824",
   "metadata": {},
   "outputs": [],
   "source": [
    "for folder in os.listdir(new_dir):\n",
    "    print(len(os.listdir(os.path.join(new_dir, folder))))"
   ]
  },
  {
   "cell_type": "code",
   "execution_count": null,
   "id": "4238120d-496a-4850-b424-f84407aa99fd",
   "metadata": {},
   "outputs": [],
   "source": [
    "for folder in os.listdir(new_dir):\n",
    "    if (len(os.listdir(os.path.join(new_dir, folder))) < 100):\n",
    "        print(folder, len(os.listdir(os.path.join(new_dir, folder))))"
   ]
  },
  {
   "cell_type": "code",
   "execution_count": null,
   "id": "8c3b1bc7-30f5-40d0-a9b4-962998aad79d",
   "metadata": {},
   "outputs": [],
   "source": [
    "for folder in os.listdir(new_dir):\n",
    "    folder_dir = os.path.join(new_dir, folder)\n",
    "    images = os.listdir(folder_dir)\n",
    "    old_dir = os.path.join(data_dir, folder)\n",
    "    for image in images:\n",
    "        src = os.path.join(folder_dir, image)\n",
    "        dest = os.path.join(old_dir, image)\n",
    "        shutil.move(src, dest)"
   ]
  },
  {
   "cell_type": "code",
   "execution_count": 7,
   "id": "57cf9408-01e2-4e7e-846f-88fb74ed49fc",
   "metadata": {},
   "outputs": [],
   "source": [
    "# Make sure the placeholder directory exists\n",
    "os.makedirs('placeholder', exist_ok=True)\n",
    "\n",
    "# Iterate through each folder in new_dir\n",
    "for folder in os.listdir(new_dir):\n",
    "    # Create a corresponding folder in the placeholder directory\n",
    "    new_folder_path = os.path.join('placeholder', folder)\n",
    "    os.makedirs(new_folder_path, exist_ok=True)\n",
    "    gitignore_path = os.path.join(new_folder_path, '.gitignore')\n",
    "    with open(gitignore_path, 'w') as gitignore_file:\n",
    "        gitignore_file.write(\"# Ignore all files in this directory\\n\")\n",
    "        gitignore_file.write(\"*\\n\")\n",
    "        gitignore_file.write(\"!.gitignore\\n\")"
   ]
  },
  {
   "cell_type": "code",
   "execution_count": null,
   "id": "3fbda853-f365-4170-87db-3947956eb1bb",
   "metadata": {},
   "outputs": [],
   "source": []
  }
 ],
 "metadata": {
  "kernelspec": {
   "display_name": "geolocator",
   "language": "python",
   "name": "geolocator"
  },
  "language_info": {
   "codemirror_mode": {
    "name": "ipython",
    "version": 3
   },
   "file_extension": ".py",
   "mimetype": "text/x-python",
   "name": "python",
   "nbconvert_exporter": "python",
   "pygments_lexer": "ipython3",
   "version": "3.9.0"
  }
 },
 "nbformat": 4,
 "nbformat_minor": 5
}
